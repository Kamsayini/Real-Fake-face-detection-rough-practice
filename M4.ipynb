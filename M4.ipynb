{
  "nbformat": 4,
  "nbformat_minor": 0,
  "metadata": {
    "colab": {
      "provenance": []
    },
    "kernelspec": {
      "name": "python3",
      "display_name": "Python 3"
    },
    "language_info": {
      "name": "python"
    }
  },
  "cells": [
    {
      "cell_type": "code",
      "execution_count": null,
      "metadata": {
        "colab": {
          "base_uri": "https://localhost:8080/"
        },
        "id": "ixuj3owg6i5n",
        "outputId": "42341516-9fed-42a8-ec9a-50e18eb4d9dd"
      },
      "outputs": [
        {
          "output_type": "stream",
          "name": "stdout",
          "text": [
            "Mounted at /content/drive\n"
          ]
        }
      ],
      "source": [
        "# Mount Google Drive (if necessary)\n",
        "from google.colab import drive\n",
        "drive.mount('/content/drive')"
      ]
    },
    {
      "cell_type": "code",
      "source": [
        "# Set base directory (replace with your actual path)\n",
        "base_dir = \"/content/drive/MyDrive/Real and Fake Face Detection Dataset\"\n"
      ],
      "metadata": {
        "id": "Fm0fNF2n6l89"
      },
      "execution_count": null,
      "outputs": []
    },
    {
      "cell_type": "code",
      "source": [
        "import os\n",
        "# Define paths to 'Real' and 'Fake' folders\n",
        "fake_dir = os.path.join(base_dir, 'Fake')\n",
        "real_dir = os.path.join(base_dir, 'Real')"
      ],
      "metadata": {
        "id": "3E_KG5ZJ6n-2"
      },
      "execution_count": null,
      "outputs": []
    },
    {
      "cell_type": "code",
      "source": [
        "# Import libraries\n",
        "\n",
        "from sklearn.model_selection import train_test_split\n",
        "from tensorflow.keras.preprocessing.image import ImageDataGenerator\n",
        "from tensorflow.keras.applications import MobileNetV2\n",
        "from tensorflow.keras.models import Sequential\n",
        "from tensorflow.keras.layers import Dense, Flatten, Conv2D, MaxPooling2D, BatchNormalization, Dropout\n",
        "from tensorflow.keras.optimizers import Adam\n",
        "import cv2\n",
        "import numpy as np"
      ],
      "metadata": {
        "id": "UWw8Ptr46r1L"
      },
      "execution_count": null,
      "outputs": []
    },
    {
      "cell_type": "code",
      "source": [
        "# Create lists of image paths\n",
        "fake_files = os.listdir(fake_dir)\n",
        "real_files = os.listdir(real_dir)\n",
        "fake_images = [os.path.join(fake_dir, f) for f in fake_files]\n",
        "real_images = [os.path.join(real_dir, f) for f in real_files]\n"
      ],
      "metadata": {
        "id": "jKMP3sGX6r5w"
      },
      "execution_count": null,
      "outputs": []
    },
    {
      "cell_type": "code",
      "source": [
        "\n",
        "# Combine images and labels\n",
        "X = fake_images + real_images\n",
        "y = [0] * len(fake_images) + [1] * len(real_images)\n"
      ],
      "metadata": {
        "id": "lNZtCULE6yee"
      },
      "execution_count": null,
      "outputs": []
    },
    {
      "cell_type": "code",
      "source": [
        "# Split data into training, validation, and test sets\n",
        "X_train, X_test_val, y_train, y_test_val = train_test_split(X, y, test_size=0.2, random_state=42)\n",
        "X_test, X_val, y_test, y_val = train_test_split(X_test_val, y_test_val, test_size=0.5, random_state=42)"
      ],
      "metadata": {
        "id": "XQLbPDSq653E"
      },
      "execution_count": null,
      "outputs": []
    },
    {
      "cell_type": "code",
      "source": [
        "\n",
        "# Preprocess images (resize and normalize)\n",
        "def preprocess_image(img_path):\n",
        "  img = cv2.imread(img_path)\n",
        "  img = cv2.resize(img, (224, 224))\n",
        "  img = img.astype('float32') / 255.0\n",
        "  return img\n"
      ],
      "metadata": {
        "id": "XLqKvrVi6877"
      },
      "execution_count": null,
      "outputs": []
    },
    {
      "cell_type": "code",
      "source": [
        "\n",
        "X_train = np.array([preprocess_image(img) for img in X_train])\n",
        "X_test = np.array([preprocess_image(img) for img in X_test])\n",
        "X_val = np.array([preprocess_image(img) for img in X_val])"
      ],
      "metadata": {
        "id": "KVj8nrxZ69aB"
      },
      "execution_count": null,
      "outputs": []
    },
    {
      "cell_type": "code",
      "source": [
        "# Convert labels to numpy arrays\n",
        "y_train = np.array(y_train)\n",
        "y_val = np.array(y_val)\n",
        "y_test = np.array(y_test)"
      ],
      "metadata": {
        "id": "kv685PGwav2z"
      },
      "execution_count": null,
      "outputs": []
    },
    {
      "cell_type": "code",
      "source": [
        "import os\n",
        "from sklearn.model_selection import train_test_split\n",
        "from keras.preprocessing.image import ImageDataGenerator\n",
        "from keras.applications.vgg16 import VGG16\n",
        "from keras.applications.resnet50 import ResNet50\n",
        "from keras.applications.inception_v3 import InceptionV3\n",
        "from keras.layers import Input, Concatenate, Dense, Dropout, Flatten, Conv2D, MaxPooling2D, BatchNormalization\n",
        "from keras.models import Model\n",
        "from keras.optimizers import Adam"
      ],
      "metadata": {
        "id": "ChOGGkYajF_9"
      },
      "execution_count": null,
      "outputs": []
    },
    {
      "cell_type": "code",
      "source": [
        "# Load the pre-trained models\n",
        "vgg16_model = VGG16(weights='imagenet', include_top=False, input_shape=(224, 224, 3))\n",
        "resnet50_model = ResNet50(weights='imagenet', include_top=False, input_shape=(224, 224, 3))\n",
        "inceptionv3_model = InceptionV3(weights='imagenet', include_top=False, input_shape=(224, 224, 3))"
      ],
      "metadata": {
        "id": "337ZJMEy7PLB"
      },
      "execution_count": null,
      "outputs": []
    },
    {
      "cell_type": "code",
      "source": [
        "# Freeze the layers of the pre-trained models\n",
        "for layer in vgg16_model.layers:\n",
        "    layer.trainable = False\n",
        "for layer in resnet50_model.layers:\n",
        "    layer.trainable = False\n",
        "for layer in inceptionv3_model.layers:\n",
        "    layer.trainable = False"
      ],
      "metadata": {
        "id": "gotMjbETcExY"
      },
      "execution_count": null,
      "outputs": []
    },
    {
      "cell_type": "code",
      "source": [
        "from keras.layers import Concatenate, Dense, Dropout, GlobalAveragePooling2D\n",
        "# Create the input layer\n",
        "input_layer = Input(shape=(224, 224, 3))\n",
        "\n",
        "# Extract features using the pre-trained models\n",
        "vgg16_features = vgg16_model(input_layer)\n",
        "resnet50_features = resnet50_model(input_layer)\n",
        "inceptionv3_features = inceptionv3_model(input_layer)\n",
        "\n",
        "# Add a Dense layer to each feature map to ensure they have the same number of features\n",
        "vgg16_features = Dense(512, activation='relu')(vgg16_features)\n",
        "resnet50_features = Dense(512, activation='relu')(resnet50_features)\n",
        "inceptionv3_features = Dense(512, activation='relu')(inceptionv3_features)\n",
        "\n",
        "# Add a GlobalAveragePooling2D layer to each feature map to reduce to 1D\n",
        "vgg16_features = GlobalAveragePooling2D()(vgg16_features)\n",
        "resnet50_features = GlobalAveragePooling2D()(resnet50_features)\n",
        "inceptionv3_features = GlobalAveragePooling2D()(inceptionv3_features)\n",
        "\n",
        "# Concatenate the features\n",
        "combined_features = Concatenate()([vgg16_features, resnet50_features, inceptionv3_features])\n",
        "\n",
        "\n"
      ],
      "metadata": {
        "id": "rQPLkUixcHbI"
      },
      "execution_count": null,
      "outputs": []
    },
    {
      "cell_type": "code",
      "source": [
        "from keras.layers import GlobalMaxPooling2D\n",
        "\n",
        "# Add convolutional, normalization layers\n",
        "x = Reshape((1, 1, 1536))(combined_features)\n",
        "x = Conv2D(64, (3, 3), activation='relu', padding='same')(x)\n",
        "x = BatchNormalization()(x)\n",
        "x = Conv2D(128, (3, 3), activation='relu', padding='same')(x)\n",
        "x = BatchNormalization()(x)\n",
        "\n",
        "# Use GlobalMaxPooling2D instead of MaxPooling2D\n",
        "x = GlobalMaxPooling2D()(x)\n",
        "\n",
        "# Add a fully connected layer\n",
        "x = Dense(512, activation='relu')(x)\n",
        "x = Dropout(0.5)(x)\n",
        "output_layer = Dense(1, activation='sigmoid')(x)\n",
        "\n",
        "# Create the final model\n",
        "model = Model(inputs=input_layer, outputs=output_layer)\n",
        "\n",
        "# Compile the model\n",
        "model.compile(optimizer=Adam(learning_rate=0.001), loss='binary_crossentropy', metrics=['accuracy'])"
      ],
      "metadata": {
        "id": "FTWsykkoLJIZ"
      },
      "execution_count": null,
      "outputs": []
    },
    {
      "cell_type": "code",
      "source": [
        "from keras.callbacks import EarlyStopping\n",
        "\n",
        "# Train the model\n",
        "history = model.fit(X_train, y_train,\n",
        "          batch_size=32,\n",
        "          epochs=50,\n",
        "          validation_data=(X_val, y_val),\n",
        "          callbacks=[EarlyStopping(monitor='val_loss', patience=5)])"
      ],
      "metadata": {
        "colab": {
          "base_uri": "https://localhost:8080/"
        },
        "id": "34x8Haqukw-R",
        "outputId": "eb8af54b-2e23-4f85-ffd6-115d924d9358"
      },
      "execution_count": null,
      "outputs": [
        {
          "output_type": "stream",
          "name": "stdout",
          "text": [
            "Epoch 1/50\n",
            "53/53 [==============================] - 1841s 34s/step - loss: 0.7572 - accuracy: 0.5338 - val_loss: 0.6921 - val_accuracy: 0.5143\n",
            "Epoch 2/50\n",
            "53/53 [==============================] - 1829s 35s/step - loss: 0.6787 - accuracy: 0.6049 - val_loss: 0.6987 - val_accuracy: 0.5571\n",
            "Epoch 3/50\n",
            "53/53 [==============================] - 1805s 34s/step - loss: 0.6334 - accuracy: 0.6551 - val_loss: 0.6863 - val_accuracy: 0.5667\n",
            "Epoch 4/50\n",
            "53/53 [==============================] - 1908s 36s/step - loss: 0.5378 - accuracy: 0.7292 - val_loss: 0.9228 - val_accuracy: 0.4476\n",
            "Epoch 5/50\n",
            "53/53 [==============================] - 1819s 34s/step - loss: 0.4890 - accuracy: 0.7711 - val_loss: 0.7230 - val_accuracy: 0.6238\n",
            "Epoch 6/50\n",
            " 4/53 [=>............................] - ETA: 25:55 - loss: 0.5068 - accuracy: 0.7812"
          ]
        }
      ]
    },
    {
      "cell_type": "code",
      "source": [
        "# # Evaluate the model on the test set\n",
        "loss, accuracy = model.evaluate(X_test, y_test)\n",
        "print(f'Test loss: {loss:.4f}')\n",
        "print(f'Test accuracy: {accuracy:.4f}')"
      ],
      "metadata": {
        "colab": {
          "base_uri": "https://localhost:8080/"
        },
        "id": "N8Ilv68rnWO_",
        "outputId": "f59a4e86-36bb-4250-b099-4f586c7dd2c6"
      },
      "execution_count": 1,
      "outputs": [
        {
          "output_type": "stream",
          "name": "stdout",
          "text": [
            "Test loss: 0.5793\n",
            "Test accuracy: 0.7132\n"
          ]
        }
      ]
    },
    {
      "cell_type": "code",
      "source": [
        "# Plot the loss and accuracy\n",
        "import matplotlib.pyplot as plt\n",
        "fig, (ax1, ax2) = plt.subplots(1, 2, figsize=(12, 4))\n",
        "\n",
        "# Plot the loss\n",
        "ax1.plot(history.history['loss'], label='Training loss')\n",
        "ax1.plot(history.history['val_loss'], label='Validation loss')\n",
        "ax1.set_title('Loss')\n",
        "ax1.set_xlabel('Epoch')\n",
        "ax1.set_ylabel('Loss')\n",
        "ax1.legend()\n",
        "\n",
        "# Plot the accuracy\n",
        "ax2.plot(history.history['accuracy'], label='Training accuracy')\n",
        "ax2.plot(history.history['val_accuracy'], label='Validation accuracy')\n",
        "ax2.set_title('Accuracy')\n",
        "ax2.set_xlabel('Epoch')\n",
        "ax2.set_ylabel('Accuracy')\n",
        "ax2.legend()\n",
        "\n",
        "plt.show()"
      ],
      "metadata": {
        "colab": {
          "base_uri": "https://localhost:8080/",
          "height": 312
        },
        "id": "c2fB0_kSnleh",
        "outputId": "a1c9540f-2a82-4d26-8f2d-c61b421d2bd4"
      },
      "execution_count": null,
      "outputs": [
        {
          "output_type": "display_data",
          "data": {
            "text/plain": [
              "<Figure size 1200x400 with 2 Axes>"
            ],
            "image/png": "[encoded data removed]"
          },
          "metadata": {}
        }
      ]
    }
  ]
}